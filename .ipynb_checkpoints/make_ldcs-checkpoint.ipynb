{
 "cells": [
  {
   "cell_type": "markdown",
   "id": "dec14d2d-a2e4-4faf-a74a-01f7d3959a3f",
   "metadata": {},
   "source": [
    "# Make LDCs based on co-added PHOENIX spectrum"
   ]
  },
  {
   "cell_type": "code",
   "execution_count": 2,
   "id": "e1526e80-4d06-449f-b0a8-036b7d1aa54c",
   "metadata": {},
   "outputs": [],
   "source": [
    "%matplotlib qt"
   ]
  },
  {
   "cell_type": "code",
   "execution_count": 3,
   "id": "ea0791be-82d1-42da-b47f-f91ee7d82dc6",
   "metadata": {},
   "outputs": [],
   "source": [
    "import matplotlib.pyplot as plt\n",
    "import numpy as np\n",
    "import pandas as pd\n",
    "from astropy.io import fits\n",
    "import astropy.units as u\n",
    "from glob import glob\n",
    "import get_lds\n",
    "from prettyplots import pretty_axis\n",
    "import scipy.interpolate as si\n",
    "import json"
   ]
  },
  {
   "cell_type": "code",
   "execution_count": 4,
   "id": "c6cc28de-b56b-412e-9351-6aa9bd33d8e4",
   "metadata": {},
   "outputs": [],
   "source": [
    "def get100_PHOENIX(wavelengths, I, new_mu, idx_new):\n",
    "    mu100 = np.arange(0.01, 1.01, 0.01)\n",
    "    I100 = np.zeros((len(wavelengths),len(mu100)))\n",
    "    for i in range(len(wavelengths)):\n",
    "        # Cubic splines (k=3), interpolation through all points (s=0) ala CB11.\n",
    "        II = si.UnivariateSpline(new_mu, I[i,idx_new], s=0, k=3)\n",
    "        I100[i] = II(mu100)\n",
    "    return mu100, I100\n",
    "\n",
    "def get_ldcs(min_w,max_w):\n",
    "    infiles = glob(\"./PHOENIX/*08800*SPECINT*.fits\")\n",
    "    #infiles = [infiles[-1]]\n",
    "    I_array = np.empty(shape=(len(infiles),25500,78))\n",
    "    i = 0\n",
    "    for file in infiles:\n",
    "        with fits.open(file) as hdul:\n",
    "            data = hdul[0].data\n",
    "            mu = hdul[1].data\n",
    "            CDELT1 = hdul[0].header['CDELT1']\n",
    "            CRVAL1 = hdul[0].header['CRVAL1']\n",
    "            \n",
    "            wavelengths = np.arange(data.shape[1]) * CDELT1 + CRVAL1\n",
    "            I = data.transpose()\n",
    "            I_array[i] = I\n",
    "            i += 1\n",
    "    \n",
    "    I = np.mean(I_array,axis=0)\n",
    "    \n",
    "    # Get response function\n",
    "    response_file = \"./COS_G160M_FLUXTAB_SENSITIVITY.txt\"\n",
    "    \n",
    "    min_w,max_w,S_wav,S_res = get_lds.get_response(min_w,max_w,response_file)\n",
    "    \n",
    "    # Integrate intensity w/ response function\n",
    "    I0 = get_lds.integrate_response_PHOENIX(wavelengths,I,mu,S_res,S_wav,correction=True,interpolation_order=1)\n",
    "    \n",
    "    # Obtain correction due to spherical extension. First, get r_max:\n",
    "    r, fine_r_max = get_lds.get_rmax(mu, I0)\n",
    "    \n",
    "    # Now get r for each intensity point and leave out those that have r>1:\n",
    "    new_r = r/fine_r_max\n",
    "    idx_new = new_r <= 1.0\n",
    "    new_r = new_r[idx_new]\n",
    "    # Reuse variable names:\n",
    "    mu = np.sqrt(1.0-(new_r**2))\n",
    "    I0 = I0[idx_new]\n",
    "\n",
    "    mu, I100 = get_lds.get100_PHOENIX(wavelengths, I, mu, idx_new)\n",
    "    I0 = get_lds.integrate_response_PHOENIX(wavelengths, I100, mu,S_res, S_wav, correction=True, interpolation_order=1)\n",
    "    idx = mu >= 0.0\n",
    "    \n",
    "    # Now compute each LD law:\n",
    "    c1, c2, c3, c4 = get_lds.fit_non_linear(mu, I0)\n",
    "    a = get_lds.fit_linear(mu[idx], I0[idx])\n",
    "    u1, u2 = get_lds.fit_quadratic(mu[idx], I0[idx])\n",
    "    b1, b2, b3 = get_lds.fit_three_parameter(mu[idx], I0[idx])\n",
    "    l1, l2 = get_lds.fit_logarithmic(mu[idx], I0[idx])\n",
    "    e1, e2 = get_lds.fit_exponential(mu[idx], I0[idx])\n",
    "    s1, s2 = get_lds.fit_square_root(mu[idx], I0[idx])\n",
    "    LDC = a, u1, u2, b1, b2, b3, c1, c2, c3, c4, l1, l2, e1, e2, s1, s2\n",
    "\n",
    "    return LDC,mu,I0\n",
    "\n",
    "def ldc_quadratic(mu,u):\n",
    "    I = 1-u[0]*(1-mu)-u[1]*(1-mu)**2\n",
    "    return I\n",
    "\n",
    "def ldc_nonlinear(mu,c):\n",
    "    I = 1-np.sum([c[i-1]*(1-mu**(i/2)) for i in range(1,5)],axis=0)\n",
    "    return I\n",
    "\n",
    "def ldc_threeparam(mu,b):\n",
    "    I = 1-b[0]*(1-mu)-b[1]*(1-mu**(3/2)-b[2]*(1-mu**2))\n",
    "    return I"
   ]
  },
  {
   "cell_type": "code",
   "execution_count": 5,
   "id": "a843b79a-b981-4057-95a8-3f4bc09f8615",
   "metadata": {
    "scrolled": true
   },
   "outputs": [
    {
     "name": "stdout",
     "output_type": "stream",
     "text": [
      "Segment A LDCs\n",
      "Quadratic:  (np.float64(1.7749253509572227), np.float64(-0.7912525208852434))\n",
      "Non-linear:  (np.float64(0.5301500175169972), np.float64(-1.8995689043902635), np.float64(2.916057873741457), np.float64(-0.5313215791395192))\n",
      "\n",
      "----------\n",
      "\n",
      "Segment B LDCs\n",
      "Quadratic:  (np.float64(2.3846545351270416), np.float64(-1.4527589443123696))\n",
      "Non-linear:  (np.float64(0.12886529926670323), np.float64(0.3148215592975764), np.float64(-2.059035255816571), np.float64(2.618903614107086))\n"
     ]
    }
   ],
   "source": [
    "ldcs_a,mu_a,I0_a = get_ldcs(1600,1760)\n",
    "ldcs_b,mu_b,I0_b = get_ldcs(1410,1580)\n",
    "\n",
    "c_a,c_b = ldcs_a[6:10],ldcs_b[6:10]\n",
    "u_a,u_b = ldcs_a[1:3],ldcs_b[1:3]\n",
    "b_a,b_b = ldcs_a[3:6],ldcs_b[3:6]\n",
    "\n",
    "print(\"Segment A LDCs\")\n",
    "print(\"Quadratic: \",u_a)\n",
    "print(\"Non-linear: \",c_a,end=\"\\n\\n----------\\n\\n\")\n",
    "print(\"Segment B LDCs\")\n",
    "print(\"Quadratic: \",u_b)\n",
    "print(\"Non-linear: \",c_b)\n",
    "\n",
    "intensity_quad_a,intensity_quad_b = ldc_quadratic(mu_a,u_a),ldc_quadratic(mu_b,u_b)\n",
    "quad_a,quad_b = ldc_quadratic(mu_a,(1.76193636, -0.77558164)),ldc_quadratic(mu_b,(2.44873077, -1.52697716))\n",
    "quad_a_MCMC,quad_b_MCMC = ldc_quadratic(mu_a,(0.497048,-1.71372)),ldc_quadratic(mu_b,(2.5845121, -1.867060))\n",
    "intensity_nonlinear_a,intensity_nonlinear_b = ldc_nonlinear(mu_a,c_a),ldc_nonlinear(mu_b,c_b)\n",
    "intensity_threeparam_a,intensity_threeparam_b = ldc_threeparam(mu_a,b_a),ldc_threeparam(mu_b,b_b)"
   ]
  },
  {
   "cell_type": "code",
   "execution_count": 5,
   "id": "40f656e9-6e3a-412b-b0ca-27ec541006a3",
   "metadata": {},
   "outputs": [
    {
     "data": {
      "text/plain": [
       "Text(0, 0.5, 'I($\\\\mu$) / I(1)')"
      ]
     },
     "execution_count": 5,
     "metadata": {},
     "output_type": "execute_result"
    }
   ],
   "source": [
    "# Fe II intensity fit\n",
    "ldc_fe, mu_fe, I_fe = get_ldcs(min_w=1606.84155, max_w=1610.05845)\n",
    "ldc_fe = ldc_fe[6:10]\n",
    "intensity_fit = ldc_nonlinear(mu_fe,ldc_fe)\n",
    "\n",
    "# Model LDCs from batman.ipynb\n",
    "model = 4\n",
    "\n",
    "match model:\n",
    "    # BATMAN uniform\n",
    "    case 1:\n",
    "        ldcs = [0.47491752,-1.67688194,2.82185299,-0.09055813]\n",
    "        label='BATMAN uniform'\n",
    "    # BATMAN gaussian\n",
    "    case 2:\n",
    "        ldcs = [0.30023484,-1.74519917,2.95901681,0.02688968]\n",
    "        label = 'BATMAN gaussian'\n",
    "    # PyTransit uniform\n",
    "    case 3:\n",
    "        ldcs = [0.44333106,-2.11230645,2.56604699,0.07421745]\n",
    "        label = 'PyTransit uniform'\n",
    "    # PyTransit gaussian\n",
    "    case 4:\n",
    "        ldcs = [0.59993584,-2.17445874,2.75924478,-0.01660394]\n",
    "        label = 'PyTransit gaussian'\n",
    "        \n",
    "mcmc_fit = ldc_nonlinear(mu_fe,ldcs)\n",
    "\n",
    "fig,ax = plt.subplots(1,1,tight_layout=True)\n",
    "pretty_axis(ax)\n",
    "ax.plot(mu_fe,I_fe,lw=2,label='PHOENIX intensity')\n",
    "ax.plot(mu_fe,intensity_fit,label='EJ15 fit')\n",
    "ax.plot(mu_fe,mcmc_fit,label=label)\n",
    "ax.legend(fontsize=14)\n",
    "ax.set_xlabel(r'$\\mu$',fontsize=18)\n",
    "ax.set_ylabel(r'I($\\mu$) / I(1)',fontsize=18)"
   ]
  },
  {
   "cell_type": "code",
   "execution_count": 5,
   "id": "cf876ac7-2d98-4aa1-89e5-887c667142f7",
   "metadata": {},
   "outputs": [
    {
     "name": "stdout",
     "output_type": "stream",
     "text": [
      "[1400, 1600]\n",
      "(np.float64(0.21335080867633954), np.float64(-0.1537730860891631), np.float64(-1.0622477762563052), np.float64(2.0090048259977618))\n",
      "-------\n",
      "[1600, 1800]\n",
      "(np.float64(0.489208604424788), np.float64(-1.6731735018199676), np.float64(2.71207780575705), np.float64(-0.5189304019180775))\n",
      "-------\n",
      "[4000, 9000]\n",
      "(np.float64(1.2869596424408472), np.float64(-2.1723549474816717), np.float64(2.7284373950029748), np.float64(-1.1212673949493246))\n",
      "-------\n"
     ]
    },
    {
     "data": {
      "text/plain": [
       "Text(0, 0.5, 'I($\\\\mu$) / I(1)')"
      ]
     },
     "execution_count": 5,
     "metadata": {},
     "output_type": "execute_result"
    }
   ],
   "source": [
    "wave_ranges = {\n",
    "    '1400-1600':[1400,1600],\n",
    "    '1600-1800':[1600,1800],\n",
    "    '4000-9000':[4000,9000],\n",
    "}\n",
    "\n",
    "linestyles = ['-','--','-.']\n",
    "\n",
    "fig,ax = plt.subplots(1,1,tight_layout=True,figsize=(10,8))\n",
    "pretty_axis(ax)\n",
    "\n",
    "for i,wave in enumerate(wave_ranges):\n",
    "    w_max,w_min = wave_ranges[wave]\n",
    "    ldc,mu,I = get_ldcs(w_max,w_min)\n",
    "    c = ldc[6:10]\n",
    "    intensity = ldc_nonlinear(mu,c)\n",
    "    print(wave_ranges[wave])\n",
    "    print(c,end='\\n-------\\n')\n",
    "    ax.plot(mu,intensity,lw=2,label=wave+' Å')\n",
    "\n",
    "ax.legend(fontsize=15)\n",
    "ax.set_xlabel(r'$\\mu=\\sqrt{1-r^2}$',fontsize=18)\n",
    "ax.set_ylabel(r'I($\\mu$) / I(1)',fontsize=18)"
   ]
  },
  {
   "cell_type": "code",
   "execution_count": 7,
   "id": "a64cc685-6ea0-46ed-9966-2bb333a49a61",
   "metadata": {},
   "outputs": [
    {
     "name": "stdout",
     "output_type": "stream",
     "text": [
      "Fe II 1608 [1606.84155, 1610.05845] (np.float64(0.6251628826509708), np.float64(-2.149097236204477), np.float64(2.7756054800685486), np.float64(-0.22198859412568733))\n",
      "Al II 1671 [1669.06926, 1672.41074] (np.float64(0.7206155788693114), np.float64(-2.2963978193024666), np.float64(2.735975115368417), np.float64(-0.11828954600978253))\n",
      "Si II 1533 [1531.9165500000001, 1534.98345] (np.float64(0.22157257602393896), np.float64(0.0019306653786945402), np.float64(-1.5147571759481018), np.float64(2.3006965021670975))\n",
      "Si II 1526 [1525.19328, 1528.24672] (np.float64(0.4026145598766748), np.float64(-0.7826022201528854), np.float64(-0.2932259636803548), np.float64(1.6994635373203792))\n",
      "S I 1425 [1423.6049699999999, 1426.45503] (np.float64(-0.28146340001419656), np.float64(2.12965818421), np.float64(-5.227260361118754), np.float64(4.355839103250315))\n",
      "S I 1433 [1431.84672, 1434.71328] (np.float64(-0.41481512604591325), np.float64(2.6576875151940085), np.float64(-6.090102191983093), np.float64(4.815057144196227))\n",
      "N I 1494 [1492.1563500000002, 1495.14365] (np.float64(0.22022086198596832), np.float64(0.06020897896612934), np.float64(-1.9377949452179197), np.float64(2.6714221277198793))\n",
      "C I 1657 [1655.343, 1658.657] (np.float64(0.05435665735407122), np.float64(0.8336080137985148), np.float64(-2.4137491522608587), np.float64(2.5111114757129522))\n"
     ]
    },
    {
     "data": {
      "text/plain": [
       "<matplotlib.legend.Legend at 0x7adff8968590>"
      ]
     },
     "execution_count": 7,
     "metadata": {},
     "output_type": "execute_result"
    }
   ],
   "source": [
    "wavelengths = {\n",
    "    'Fe II 1608':1608.45,\n",
    "    'Al II 1671':1670.74,\n",
    "    'Si II 1533':1533.45,\n",
    "    'Si II 1526':1526.72,\n",
    "    'S I 1425':1425.03,\n",
    "    'S I 1433':1433.28,\n",
    "    'N I 1494':1493.65,\n",
    "    'C I 1657':1657,\n",
    "}\n",
    "\n",
    "ldc_dict = {}\n",
    "\n",
    "fig,ax = plt.subplots(1,1,tight_layout=True)\n",
    "pretty_axis(ax)\n",
    "\n",
    "ax.plot(mu_b,intensity_nonlinear_b,label='1400-1600 Å',lw=3)\n",
    "ax.plot(mu_a,intensity_nonlinear_a,label='1600-1800 Å',lw=3)\n",
    "\n",
    "for i,ion in enumerate(wavelengths):\n",
    "    # Get wavelength center\n",
    "    wave = wavelengths[ion]\n",
    "    # Calculate wavelength range\n",
    "    dlam = 300/3e5*wave\n",
    "    wave_range = [wave-dlam,wave+dlam]\n",
    "\n",
    "    # Get nonlinear LDCs\n",
    "    ldcs,mu,I0 = get_ldcs(min_w = wave_range[0], max_w = wave_range[1])\n",
    "    u = ldcs[1:3] # Quadratic ldcs\n",
    "    c = ldcs[6:10] # Nonlinear ldcs\n",
    "    ldc_dict[ion] = {\n",
    "        'wave_range':[],\n",
    "        'ldc':{\n",
    "            'quadratic':[],\n",
    "            'nonlinear':[]\n",
    "        }\n",
    "    }\n",
    "    ldc_dict[ion]['wave_range'] = wave_range\n",
    "    ldc_dict[ion]['ldc']['quadratic'] = u\n",
    "    ldc_dict[ion]['ldc']['nonlinear'] = c\n",
    "    print(ion,wave_range,c)\n",
    "    intensity = ldc_nonlinear(mu,c)\n",
    "    ax.plot(mu,I0,label=ion,c='C%s'%(i+2),ls='--')\n",
    "    #ax.plot(mu,intensity,c='C%s'%(i+2),ls='--')\n",
    "\n",
    "ax.legend()"
   ]
  },
  {
   "cell_type": "code",
   "execution_count": 11,
   "id": "9692633c-a237-4554-86bf-d7dfcd556d6b",
   "metadata": {},
   "outputs": [],
   "source": [
    "with open('ldcs.json','w') as file:\n",
    "    json.dump(ldc_dict,file,indent=4)"
   ]
  },
  {
   "cell_type": "code",
   "execution_count": 12,
   "id": "1744fce9-384f-40ba-9b96-d5c08a32ecfb",
   "metadata": {},
   "outputs": [
    {
     "data": {
      "text/plain": [
       "Text(0, 0.5, 'I($\\\\mu$) / I(1)')"
      ]
     },
     "execution_count": 12,
     "metadata": {},
     "output_type": "execute_result"
    }
   ],
   "source": [
    "# Fe II intensity fit\n",
    "ldc_fe, mu_fe, I_fe = get_ldcs(min_w=1606.84155, max_w=1610.05845)\n",
    "ldc_fe = ldc_fe[6:10]\n",
    "intensity_fit = ldc_nonlinear(mu_fe,ldc_fe)\n",
    "\n",
    "# Model LDCs from batman.ipynb\n",
    "model = 4\n",
    "\n",
    "match model:\n",
    "    # BATMAN uniform\n",
    "    case 1:\n",
    "        ldcs = [0.47491752,-1.67688194,2.82185299,-0.09055813]\n",
    "        label='BATMAN uniform'\n",
    "    # BATMAN gaussian\n",
    "    case 2:\n",
    "        ldcs = [0.30023484,-1.74519917,2.95901681,0.02688968]\n",
    "        label = 'BATMAN gaussian'\n",
    "    # PyTransit uniform\n",
    "    case 3:\n",
    "        ldcs = [0.44333106,-2.11230645,2.56604699,0.07421745]\n",
    "        label = 'PyTransit uniform'\n",
    "    # PyTransit gaussian\n",
    "    case 4:\n",
    "        ldcs = [0.59993584,-2.17445874,2.75924478,-0.01660394]\n",
    "        label = 'PyTransit gaussian'\n",
    "        \n",
    "mcmc_fit = ldc_nonlinear(mu_fe,ldcs)\n",
    "\n",
    "fig,ax = plt.subplots(1,1,tight_layout=True)\n",
    "pretty_axis(ax)\n",
    "ax.plot(mu_fe,I_fe,lw=2,label='PHOENIX intensity')\n",
    "ax.plot(mu_fe,intensity_fit,label='EJ15 fit')\n",
    "ax.plot(mu_fe,mcmc_fit,label=label)\n",
    "ax.legend(fontsize=14)\n",
    "ax.set_xlabel(r'$\\mu$',fontsize=18)\n",
    "ax.set_ylabel(r'I($\\mu$) / I(1)',fontsize=18)"
   ]
  },
  {
   "cell_type": "code",
   "execution_count": 11,
   "id": "19dd05dd-18ab-4abe-b41f-cf5496842f98",
   "metadata": {},
   "outputs": [],
   "source": [
    "# MAKE INTENSITY PLOTS\n",
    "plot_response = False\n",
    "if plot_response:\n",
    "    fig,ax = plt.subplots(1,1,tight_layout=True)\n",
    "    pretty_axis(ax)\n",
    "    ax.plot(S_wav,S_res)\n",
    "    ax.set_xlabel(\"Wavelength [Å]\",fontsize=16)\n",
    "    ax.set_ylabel(\"Response\",fontsize=16)\n",
    "    ax.set_title(\"COS Segment A Response Function\",fontsize=16)\n",
    "\n",
    "plot_I0 = True\n",
    "if plot_I0:\n",
    "    fig,ax=plt.subplots(1,1,tight_layout=True)\n",
    "    pretty_axis(ax)\n",
    "    ax.plot(mu_a,I0_a,lw=3,label=\"Segment A\")\n",
    "    ax.plot(mu_b,I0_b,lw=3,label=\"Segment B\")\n",
    "    ax.plot(mu_a,intensity_nonlinear_a,ls='--',label=\"Seg A Non-linear\")\n",
    "    ax.plot(mu_b,intensity_nonlinear_b,ls='--',label=\"Seg B Non-linear\")\n",
    "    ax.set_xlabel(r\"$\\mu=\\sqrt{1-r^2}$\",fontsize=16)\n",
    "    ax.set_ylabel(\"I / I(1)\",fontsize=16)\n",
    "    ax.set_title(\"PHOENIX Stellar Intensity Profile\",fontsize=16)\n",
    "    ax.legend(fontsize=13)"
   ]
  },
  {
   "cell_type": "code",
   "execution_count": null,
   "id": "22136d5a-58ec-43d8-81ab-a5c2c943857e",
   "metadata": {},
   "outputs": [],
   "source": [
    "np.save(\"COS_G160M_FLUXTAB_SENSITIVITY\",arr=np.array([interp_wave,interp_sens]))\n",
    "df = pd.DataFrame(data=np.array([interp_wave,interp_sens]).T)\n",
    "df.to_csv(\"COS_G160M_FLUXTAB_SENSITIVITY.txt\",header=False,index=False,sep=\" \")"
   ]
  },
  {
   "cell_type": "markdown",
   "id": "e9e09dcc-f3aa-43c7-9666-e03c4023ea2e",
   "metadata": {},
   "source": [
    "# Plot Al2 region"
   ]
  },
  {
   "cell_type": "code",
   "execution_count": 4,
   "id": "510055d7-d464-47ac-a2d4-73a7f721aabe",
   "metadata": {},
   "outputs": [
    {
     "data": {
      "text/plain": [
       "<matplotlib.legend.Legend at 0x28702311760>"
      ]
     },
     "execution_count": 4,
     "metadata": {},
     "output_type": "execute_result"
    }
   ],
   "source": [
    "ldc_broad, mu_broad, I_broad = get_ldcs(1600,1760)\n",
    "ldc_blue, mu_blue, I_blue = get_ldcs(1669,1670)\n",
    "ldc_core, mu_core, I_core = get_ldcs(1670.48,1671)\n",
    "ldc_red, mu_red, I_red = get_ldcs(1671,1672)\n",
    "\n",
    "plt.figure()\n",
    "for label,mu,I in zip(['broad','blue','core','red'],[mu_broad,mu_blue,mu_core,mu_red],[I_broad,I_blue,I_core,I_red]):\n",
    "    plt.plot(mu,I,label=label)\n",
    "plt.plot(mu_blue, I_blue/I_core, label=r'I$_{\\mathrm{blue}}$ / I$_{\\mathrm{core}}$')\n",
    "plt.plot(mu_red, I_red/I_core, label=r'I$_{\\mathrm{red}}$ / I$_{\\mathrm{core}}$')\n",
    "plt.xlabel(r'$\\mu = \\sqrt{1-r^2}$')\n",
    "plt.ylabel(r'I($\\mu$) / I(1)')\n",
    "plt.legend()"
   ]
  },
  {
   "cell_type": "markdown",
   "id": "52553fb3-8bca-4fcf-96f7-d77355fee6f6",
   "metadata": {},
   "source": [
    "# Make 2D intensity plot"
   ]
  },
  {
   "cell_type": "code",
   "execution_count": 16,
   "id": "e64163da-3f50-4678-8fea-96c36c0f69f3",
   "metadata": {},
   "outputs": [
    {
     "data": {
      "text/plain": [
       "<matplotlib.lines.Line2D at 0x2205181d340>"
      ]
     },
     "execution_count": 16,
     "metadata": {},
     "output_type": "execute_result"
    }
   ],
   "source": [
    "from matplotlib.colors import LogNorm\n",
    "\n",
    "response_file = \"./COS_G160M_FLUXTAB_SENSITIVITY.txt\"\n",
    "\n",
    "infiles = glob(\"C:/Users/pabe9855/Desktop/Directories/KELT-20/PHOENIX/*ACES*SPECINT*.fits\")\n",
    "I_array = np.empty(shape=(len(infiles),25500,78))\n",
    "i = 0\n",
    "for file in infiles:\n",
    "    with fits.open(file) as hdul:\n",
    "        data = hdul[0].data\n",
    "        mu = hdul[1].data\n",
    "        CDELT1 = hdul[0].header['CDELT1']\n",
    "        CRVAL1 = hdul[0].header['CRVAL1']\n",
    "        \n",
    "        wavelengths = np.arange(data.shape[1]) * CDELT1 + CRVAL1\n",
    "        I = data.transpose()\n",
    "        I_array[i] = I\n",
    "        i += 1\n",
    "\n",
    "I = np.mean(I_array,axis=0)\n",
    "mask = (wavelengths > 1400) & (wavelengths < 1800)\n",
    "\n",
    "wavelengths = wavelengths[mask]\n",
    "I = I[mask]\n",
    "I_norm = (I.T/I.T[-1]).T\n",
    "\n",
    "# Plot PHOENIX intensity (not corrected for spherical approximation)\n",
    "plt.figure()\n",
    "im = plt.imshow(I,\n",
    "               aspect='auto',\n",
    "               origin='lower',\n",
    "               norm=LogNorm(vmin=min(I.flatten()),vmax=max(I.flatten())),\n",
    "               extent=(mu[0],mu[-1],wavelengths[0],wavelengths[-1]))\n",
    "cb = plt.colorbar(im)\n",
    "plt.axvline(x=0.08,c='k')\n",
    "\n",
    "# Plot normalized PHOENIX intensity\n",
    "plt.figure()\n",
    "im = plt.imshow(I_norm,\n",
    "           aspect='auto',\n",
    "           origin='lower',\n",
    "           norm=LogNorm(vmin=min(I_norm.flatten()),vmax=max(I_norm.flatten())),\n",
    "           extent=(mu[0],mu[-1],wavelengths[0],wavelengths[-1]))\n",
    "cb = plt.colorbar(im)\n",
    "\n",
    "plt.axvline(x=0.08,c='k')"
   ]
  },
  {
   "cell_type": "markdown",
   "id": "8fc3aed9-f81c-40ea-9460-4191bfa56da1",
   "metadata": {},
   "source": [
    "# Plot Al II directly from model (not including response curve)"
   ]
  },
  {
   "cell_type": "code",
   "execution_count": 14,
   "id": "e660957c-20a2-4d94-b8bf-ea0f765a4e56",
   "metadata": {},
   "outputs": [
    {
     "data": {
      "text/plain": [
       "[<matplotlib.lines.Line2D at 0x220505928a0>]"
      ]
     },
     "execution_count": 14,
     "metadata": {},
     "output_type": "execute_result"
    }
   ],
   "source": [
    "line_center = 1393.75\n",
    "al2_ind = np.argmin(np.abs(wavelengths-line_center))\n",
    "\n",
    "plt.figure()\n",
    "plt.plot(mu,I[al2_ind,:]/I[al2_ind,-1])"
   ]
  },
  {
   "cell_type": "markdown",
   "id": "6f5b01c8-8e77-4430-9449-4ee112b9903a",
   "metadata": {},
   "source": [
    "# average transits over Al II with different LDCs"
   ]
  },
  {
   "cell_type": "code",
   "execution_count": 5,
   "id": "1105c8e4-97e6-4313-a0d2-f47343f18d16",
   "metadata": {},
   "outputs": [],
   "source": [
    "import pytransit"
   ]
  },
  {
   "cell_type": "code",
   "execution_count": 48,
   "id": "933c544c-a886-4c9b-840c-546d5e1a17e8",
   "metadata": {
    "scrolled": true
   },
   "outputs": [],
   "source": [
    "# Transit parameters ( https://transit-timing.github.io/planets/KELT-20.html )\n",
    "t_epoch = 2458312.58564 # Transit epoch in BJD\n",
    "t_err = 0.00016 # Error on transit epoch\n",
    "period = 3.47410024 # Orbital period in days\n",
    "p_err = 0.0000061 # Error on period\n",
    "a = 7.42 # semi-major axis [R_*]\n",
    "e = 0 # Eccentricity \n",
    "inc = 1.503 # Radians\n",
    "inc_deg = np.rad2deg(inc)\n",
    "\n",
    "line_center = 1670.74\n",
    "dlam = 300/3e5*line_center\n",
    "wave = np.arange(line_center-dlam,line_center+dlam,step=0.1)\n",
    "\n",
    "t_model = pytransit.RRModel('nonlinear')\n",
    "x = np.linspace(-0.10,0.10,num=1000) # Phase array for pytransit model [days]\n",
    "t_model.set_data(x)\n",
    "\n",
    "transits = np.zeros(shape=(len(wave),len(x)))\n",
    "\n",
    "for i in range(len(wave)-1):\n",
    "    min_w = wave[i]\n",
    "    max_w = wave[i+1]\n",
    "    #print(\"Wave range: %0.2f - %0.2f\"%(min_w,max_w))\n",
    "    #print(\"Getting LDCs\")\n",
    "    ldc, mu, I = get_ldcs(min_w=min_w,max_w=max_w)\n",
    "    ldc_nonlin = ldc[6:10]\n",
    "    #print('Getting transit model')\n",
    "    transits[i] = t_model.evaluate(k=0.13,t0=0.0,ldc=ldc_nonlin,a=a,e=e,i=inc,p=period)\n",
    "\n",
    "transits = transits[0:-1]\n",
    "\n",
    "ldc, mu, I = get_ldcs(min_w=min(wave),max_w=max(wave))\n",
    "full_ldc = ldc[6:10]\n",
    "\n",
    "transit_full = t_model.evaluate(k=0.13,t0=0.0,ldc=ldc_nonlin,a=a,e=e,i=inc,p=period)\n",
    "transit_avg = np.average(transits,axis=0)"
   ]
  },
  {
   "cell_type": "code",
   "execution_count": 59,
   "id": "23ce4466-7123-47d9-8aa7-a1e01e2e77e0",
   "metadata": {},
   "outputs": [
    {
     "data": {
      "text/plain": [
       "(-2.0, 2.0)"
      ]
     },
     "execution_count": 59,
     "metadata": {},
     "output_type": "execute_result"
    }
   ],
   "source": [
    "import astropy.units as u\n",
    "\n",
    "min_ind = np.argmin(np.array([min(transit) for transit in transits]))\n",
    "max_ind = np.argmax(np.array([max(transit) for transit in transits]))\n",
    "\n",
    "d2hr = u.d.to(u.hr)\n",
    "\n",
    "fig,ax = plt.subplots(2,1,sharex=True,figsize=(12,6),layout='constrained')\n",
    "pretty_axis(ax)\n",
    "ax[0].plot(x*d2hr,transit_full,lw=2,label='Constant LDC',c='k')\n",
    "ax[0].plot(x*d2hr,transit_avg,lw=2,label='Avg LDC',c='r')\n",
    "\n",
    "ax[0].fill_between(x=x*d2hr,y1=transits[min_ind],y2=transits[max_ind],color=('C0',0.3))\n",
    "fig.supxlabel(\"Time from mid-transit [hr]\",fontsize=18)\n",
    "ax[0].set_ylabel(r'F$_{\\rm{in}}$ / F$_{\\rm{out}}$',fontsize=18)\n",
    "ax[0].legend(fontsize=14)\n",
    "ax[1].plot(x*d2hr,(transit_full-transit_avg)*100,lw=2)\n",
    "ax[1].set_ylabel(\"Difference [%]\",fontsize=18)\n",
    "ax[0].set_xlim([-2,2])"
   ]
  },
  {
   "cell_type": "code",
   "execution_count": null,
   "id": "242df9e9-dfdd-4cfc-bb20-d3cec665a93a",
   "metadata": {},
   "outputs": [],
   "source": []
  }
 ],
 "metadata": {
  "kernelspec": {
   "display_name": "Python 3 (ipykernel)",
   "language": "python",
   "name": "python3"
  },
  "language_info": {
   "codemirror_mode": {
    "name": "ipython",
    "version": 3
   },
   "file_extension": ".py",
   "mimetype": "text/x-python",
   "name": "python",
   "nbconvert_exporter": "python",
   "pygments_lexer": "ipython3",
   "version": "3.13.3"
  }
 },
 "nbformat": 4,
 "nbformat_minor": 5
}
